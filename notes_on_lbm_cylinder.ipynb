{
 "cells": [
  {
   "cell_type": "markdown",
   "metadata": {},
   "source": [
    "## Poisuelle Flow Using LBM:\n",
    "\n",
    "In the lattice boltzmann model, one is to solve for the probability distribution function of the \"particles\". \n",
    "I'll be trying to solve the model for a 2D poisuelle flow in a pipe.\n",
    "The grid used in the problems would be a $D_2Q_9$ type of grid with 9 discretized velocities with different weights.\n",
    "\n",
    "The calculations on a lattice boltzmann solver are performed in two steps: 1.) the collision 2.) streaming\n",
    "\n",
    "## Connecting the microscopic quantities to macroscopic:\n",
    "\n",
    "The probability distribution function of a lattice point is given by $f(\\vec{x},\\vec{\\xi},t)$. Where $\\vec{x}$ is the \"molecular\" position and $\\vec{\\xi}$ is the microscopic velocity. The microscopic velocity here is discretized in 9 directions for the $D_2Q_9$ cell with weights that normalize the weighted probability density.\n",
    "The function $f$ gives the \"probability\" of a particle at a given position and time, with a microscopic velocity would be moving in the direction $\\vec{\\xi}$ due to kintetic effects.\n",
    "\n",
    "The dicretized PDF is given by: $f_{\\alpha}(\\vec{x},t)$\n",
    "where alpha is the index of the 9 directions it can take in the $D_2Q_9$ cell.\n",
    "\n",
    "The macroscopic quanities are given by:\n",
    "\n",
    "Density:\n",
    "$$ \\rho(\\vec{x},t) = \\sum_{\\alpha} f_{\\alpha}(\\vec{x},t)$$\n",
    "\n",
    "Momentum per unit volume:\n",
    "\n",
    "$$ \\rho(\\vec{x},t)\\vec{u}(\\vec{x},t) = \\sum_{\\alpha} f_{\\alpha}(\\vec{x},t)\\vec{c}_{\\alpha}$$\n",
    "\n",
    "Here, $\\vec{c}_{\\alpha} $ is the discrete velocity vector set\n",
    "\n",
    "Pressure for a lattice point can be calculated using: $P = \\rho c_s^2 $\n",
    "\n",
    "## The Lattice Boltzman Equation:\n",
    "\n",
    "The lattice boltzmann equation is given by:\n",
    "\n",
    "$$f_{\\alpha}(\\vec{x}+\\vec{c}_{\\alpha}\\Delta t,t+\\Delta t) - f_{\\alpha}(\\vec{x},t) = -\\frac{(f_{\\alpha}(\\vec{x},t))- f_{\\alpha}^{eq}(\\vec{x},t)}{\\tau/\\Delta t}$$\n",
    "\n",
    "Here, the $f_{\\alpha}^{eq}(\\vec{x},t)$ comes from the maxwell boltzmann distribution, which is given by:\n",
    "$$ f_{\\alpha}^{eq}(\\vec{x},t) = w_\\alpha \\rho \\left(1+ \\frac{\\vec{u}\\cdot \\vec{c}_\\alpha}{c_s^2}+\\frac{(\\vec{u}\\cdot \\vec{c}_\\alpha)^2}{2c_s^4}-\\frac{\\vec{u}\\cdot \\vec{u}}{2c_s^2}\\right)$$\n",
    "\n",
    "Here:\n",
    "\\\n",
    "\\begin{align*}\n",
    "\\rho & \\rightarrow \\text{macroscopic density} (\\vec{x},t) \\\\\n",
    "\\vec{u} & \\rightarrow \\text{macroscopic velocity} (\\vec{x},t)\\\\\n",
    "w_\\alpha & \\rightarrow \\text{weights given to microscopic velocity} (\\vec{x},t)\\\\\n",
    "c_\\alpha & \\rightarrow \\text{discrete velocity} (\\vec{x},t)\\\\\n",
    "c_s & \\rightarrow \\text{speed of sound} (\\vec{x},t)\n",
    "\\ \\text{where: } c_s^2 = \\frac{1}{3}\\left(\\frac{\\Delta x}{\\Delta t}\\right)^2\n",
    "\\end{align*}\n",
    "\\\n",
    "\n",
    "The pressure is now directly related to density as $P = \\rho c_s^2$\n",
    "\n",
    "The $f_{\\alpha}^{eq}(\\vec{x},t)$ satisfies the normal PDF conditions:\n",
    "$$ \\sum_\\alpha f_{\\alpha}^{eq}(\\vec{x},t) = \\rho(\\vec{x},t) $$\n",
    "and \n",
    "$$ \\sum_\\alpha f_{\\alpha}^{eq}(\\vec{x},t)\\;\\vec{c}_\\alpha = \\rho\\;\\vec{u}(\\vec{x},t) $$\n",
    "\n",
    "\n",
    "## Steps for Solving:\n",
    "\n",
    "### 1.) Collision:\n",
    "\n",
    "$$ f_{\\alpha}^\\star(\\vec{x},t) = f_{\\alpha}(\\vec{x},t) - \\frac{\\Delta t}{\\tau}\\left(f_{\\alpha}(\\vec{x},t)-f_{\\alpha}^{eq}(\\vec{x},t)\\right)$$\n",
    "\n",
    "The collision equation is modified in the presence of an external force.\n",
    "( See section \"Gno's forcing Scheme for reference)\n",
    "\n",
    "### 2.) Streaming:\n",
    "\n",
    "$$ f_{\\alpha}(\\vec{x}+\\vec{c}_{\\alpha}\\Delta t,t+\\Delta t) = f_{\\alpha}^\\star(\\vec{x},t) $$\n",
    "\n",
    "This is the step where you basically assign the distribution function to the subsequent cell.\n",
    "\n",
    "### 3.) Application of boundary conditions\n",
    "\n",
    "#### Bounceback Boundary Condition:\n",
    "\n",
    "The existance of a wall is resolved by the use of half-way bounceback boundary condition.\n",
    "$$ f_\\alpha (x_f, t+\\Delta t) =f_{\\alpha '}^* (x_f, t+\\Delta t) $$\n",
    "\n",
    "The $\\alpha '$ is the opposite direction of the original $\\alpha$ direction.\n",
    "So, for direction 4,7 and 8, the complementary directions are 2,5 and 6 respectively."
   ]
  },
  {
   "cell_type": "markdown",
   "metadata": {},
   "source": [
    "## Outflow and Inflow Boundary condition\n",
    "\n",
    "### Outflow boundary condition is enforced using the following way:\n",
    "\n",
    "distributions 6, 3 and 7 for the last column of nodes is taken to be the distribution of the previous (second last) column:\n",
    "pseudocode:"
   ]
  },
  {
   "cell_type": "raw",
   "metadata": {},
   "source": [
    "def left_outlet(f):\n",
    "        nx = np.shape(f[0])\n",
    "        f[nx-1][:][3] = f[nx-2][:][3]\n",
    "        f[nx-1][:][5] = f[nx-2][:][5]\n",
    "        f[:nx-1][:][7] = f[nx-2][:][7]\n",
    "        return f"
   ]
  },
  {
   "cell_type": "markdown",
   "metadata": {},
   "source": [
    "### Streaming and Bounceback Simplified using BounceBack:\n",
    "\n",
    "Streaming and bounceback using numpy"
   ]
  },
  {
   "cell_type": "raw",
   "metadata": {},
   "source": [
    "# stream f\n",
    "for i in range(9):\n",
    "    f[:,:,i]= np.roll(f[:,:,i],c[i],(0,1))\n",
    "print(f[-1,0])"
   ]
  },
  {
   "cell_type": "markdown",
   "metadata": {},
   "source": [
    "### Inlet Boundary Condtion:\n",
    "\n",
    "The inlet boundary condition used here is the equilibrium scheme dirichlet velocity boundary condition.\n",
    "\n",
    "Under the equilibrium scheme, the wall densities are calculated for the left wall using:\n",
    "\n",
    "$$ \\rho_w = \\frac{c}{c-u_{w,x}}[f_0+f_2+f_4+2(f_3+f_6+f_7)]$$\n",
    "\n",
    "And for the right wall (Outlet), one \"may\" use:\n",
    "\n",
    "$$ \\rho_w = \\frac{c}{c+u_{w,x}}[f_0+f_2+f_4+2(f_1+f_5+f_8)]$$\n",
    "\n",
    "And using the equilibrium scheme, the boundary distribution set could be just replaced by:\n",
    "$$ f_i(x_b,t) = f_i^{eq}(\\rho_w,u_w) $$"
   ]
  },
  {
   "cell_type": "markdown",
   "metadata": {},
   "source": [
    "### Steps for Implementation:\n",
    "\n",
    "1.) Apply Outflow BC.\n",
    "\n",
    "2.) Compute machroscopic density and momenta.\n",
    "\n",
    "3.) Apply the dirichlet velocity boundary condition.\n",
    "\n",
    "4.) Compute feq.\n",
    "\n",
    "5.) Perform collision using the BGK Operator.\n",
    "\n",
    "6.) Apply bounce-back BC.\n",
    "\n",
    "7.) Stream velocity along ci.\n",
    "\n",
    "8.) Advance time loop."
   ]
  }
 ],
 "metadata": {
  "kernelspec": {
   "display_name": "Python 3",
   "language": "python",
   "name": "python3"
  },
  "language_info": {
   "codemirror_mode": {
    "name": "ipython",
    "version": 3
   },
   "file_extension": ".py",
   "mimetype": "text/x-python",
   "name": "python",
   "nbconvert_exporter": "python",
   "pygments_lexer": "ipython3",
   "version": "3.8.5"
  }
 },
 "nbformat": 4,
 "nbformat_minor": 4
}
